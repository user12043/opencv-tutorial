{
 "cells": [
  {
   "cell_type": "markdown",
   "id": "973b5aa2-d0a9-48c2-bcf9-8b946c95a030",
   "metadata": {},
   "source": [
    "# CONTOUR PROPERTIES"
   ]
  },
  {
   "cell_type": "markdown",
   "id": "7d493664-efcb-4a1c-b217-92dd1ee584bf",
   "metadata": {},
   "source": [
    "https://docs.opencv.org/4.5.3/d3/d05/tutorial_py_table_of_contents_contours.html  \n",
    "https://docs.opencv.org/4.5.3/d1/d32/tutorial_py_contour_properties.html"
   ]
  },
  {
   "cell_type": "code",
   "execution_count": 1,
   "id": "0f44d797-4475-4e93-9283-3b95780a807b",
   "metadata": {},
   "outputs": [],
   "source": [
    "import cv2 as cv\n",
    "import matplotlib.pyplot as plt\n",
    "import numpy as np"
   ]
  },
  {
   "cell_type": "code",
   "execution_count": 2,
   "id": "37fc5320-5adb-4934-9fab-0c25aed15a4c",
   "metadata": {},
   "outputs": [],
   "source": [
    "img = cv.imread(\"img/logo.png\", cv.IMREAD_GRAYSCALE)\n",
    "# ret, threshold = cv.threshold(img, 127, 255, 0)\n",
    "#img = cv.medianBlur(img, 33)\n",
    "#threshold = cv.adaptiveThreshold(img, 255, cv.ADAPTIVE_THRESH_GAUSSIAN_C, cv.THRESH_BINARY, 11, 2)\n",
    "contours, hiearchy = cv.findContours(img, cv.RETR_EXTERNAL, cv.CHAIN_APPROX_SIMPLE)"
   ]
  },
  {
   "cell_type": "code",
   "execution_count": 3,
   "id": "28112a6a-384b-4bcf-bb6a-f6583761141e",
   "metadata": {},
   "outputs": [
    {
     "data": {
      "text/plain": [
       "<matplotlib.image.AxesImage at 0x7f37b45d72e0>"
      ]
     },
     "execution_count": 3,
     "metadata": {},
     "output_type": "execute_result"
    },
    {
     "data": {
      "image/png": "[encoded data removed]",
      "text/plain": [
       "<Figure size 432x288 with 1 Axes>"
      ]
     },
     "metadata": {
      "needs_background": "light"
     },
     "output_type": "display_data"
    }
   ],
   "source": [
    "img_c = cv.imread(\"img/logo.png\")\n",
    "cv.drawContours(img_c, contours, 6, (255, 255, 0), 5)\n",
    "plt.imshow(cv.cvtColor(img_c, cv.COLOR_BGR2RGB))"
   ]
  },
  {
   "cell_type": "code",
   "execution_count": 4,
   "id": "8c24001e-eece-4dfc-87e6-f4dc016b8763",
   "metadata": {},
   "outputs": [],
   "source": [
    "cnt = contours[6]"
   ]
  },
  {
   "cell_type": "markdown",
   "id": "ab6805f2-7c86-4dfe-9450-3dc97c75a65c",
   "metadata": {},
   "source": [
    "## 1. Aspect Ratio"
   ]
  },
  {
   "cell_type": "code",
   "execution_count": 5,
   "id": "e89e3c38-5d9f-40e0-9a3e-e01d9f6a69cd",
   "metadata": {},
   "outputs": [
    {
     "data": {
      "text/plain": [
       "1.0725552050473186"
      ]
     },
     "execution_count": 5,
     "metadata": {},
     "output_type": "execute_result"
    }
   ],
   "source": [
    "x, y, w, h = cv.boundingRect(cnt)\n",
    "aspect_ratio = float(w) / h\n",
    "aspect_ratio"
   ]
  },
  {
   "cell_type": "markdown",
   "id": "5f98bb70-b0d4-4f80-8224-7bc139aeaade",
   "metadata": {},
   "source": [
    "## 2. Extent"
   ]
  },
  {
   "cell_type": "code",
   "execution_count": 6,
   "id": "8da058cc-b505-4d68-8f33-ad7800da2cec",
   "metadata": {},
   "outputs": [
    {
     "data": {
      "text/plain": [
       "0.5892187789942476"
      ]
     },
     "execution_count": 6,
     "metadata": {},
     "output_type": "execute_result"
    }
   ],
   "source": [
    "area = cv.contourArea(cnt)\n",
    "x, y, w, h = cv.boundingRect(cnt)\n",
    "rect_area = w * h\n",
    "extent = float(area) / rect_area\n",
    "extent"
   ]
  },
  {
   "cell_type": "markdown",
   "id": "dfe0169e-0888-424a-873e-95756605b3ab",
   "metadata": {},
   "source": [
    "## 3. Solidity"
   ]
  },
  {
   "cell_type": "code",
   "execution_count": 7,
   "id": "f76988f8-ad0d-4813-b88f-308874a13ea0",
   "metadata": {},
   "outputs": [
    {
     "data": {
      "text/plain": [
       "0.7224759813652937"
      ]
     },
     "execution_count": 7,
     "metadata": {},
     "output_type": "execute_result"
    }
   ],
   "source": [
    "area = cv.contourArea(cnt)\n",
    "hull = cv.convexHull(cnt)\n",
    "hull_area = cv.contourArea(hull)\n",
    "solidity = float(area) / hull_area\n",
    "solidity"
   ]
  },
  {
   "cell_type": "markdown",
   "id": "8a17b93f-d894-498a-a8b3-a7fc79d09c34",
   "metadata": {},
   "source": [
    "## 4. Equivalent Diameter"
   ]
  },
  {
   "cell_type": "code",
   "execution_count": 8,
   "id": "a39b7c98-8296-4b53-99a8-87ee2f1be771",
   "metadata": {},
   "outputs": [
    {
     "data": {
      "text/plain": [
       "284.35602776792206"
      ]
     },
     "execution_count": 8,
     "metadata": {},
     "output_type": "execute_result"
    }
   ],
   "source": [
    "area = cv.contourArea(cnt)\n",
    "equi_diameter = np.sqrt(4 * area / np.pi)\n",
    "equi_diameter"
   ]
  },
  {
   "cell_type": "markdown",
   "id": "148763a0-4a64-4030-b0d2-ce966cd880ca",
   "metadata": {},
   "source": [
    "## 5. Orientation"
   ]
  },
  {
   "cell_type": "code",
   "execution_count": 9,
   "id": "6c529f6a-e4a8-443f-be5d-0c0fc647427b",
   "metadata": {},
   "outputs": [
    {
     "data": {
      "text/plain": [
       "89.93110656738281"
      ]
     },
     "execution_count": 9,
     "metadata": {},
     "output_type": "execute_result"
    }
   ],
   "source": [
    "(x, y), (MajorAxisLength, minor_axis_length), angle = cv.fitEllipse(cnt)\n",
    "angle"
   ]
  },
  {
   "cell_type": "markdown",
   "id": "7b319294-2b93-46c8-bbb7-411bde6a1f59",
   "metadata": {},
   "source": [
    "## 6. Mask and Pixel Points"
   ]
  },
  {
   "cell_type": "code",
   "execution_count": 10,
   "id": "7284fc59-fe62-4e9c-8843-c645632fa8f0",
   "metadata": {},
   "outputs": [
    {
     "data": {
      "text/plain": [
       "<matplotlib.image.AxesImage at 0x7f37b4468520>"
      ]
     },
     "execution_count": 10,
     "metadata": {},
     "output_type": "execute_result"
    },
    {
     "data": {
      "image/png": "[encoded data removed]",
      "text/plain": [
       "<Figure size 432x288 with 1 Axes>"
      ]
     },
     "metadata": {
      "needs_background": "light"
     },
     "output_type": "display_data"
    }
   ],
   "source": [
    "mask = np.zeros(img.shape, np.uint8)\n",
    "cv.drawContours(mask, [cnt], 0, 255, -1)\n",
    "#pixelpoints = np.transpose(np.nonzero(mask))\n",
    "pixelpoints = cv.findNonZero(mask)\n",
    "plt.imshow(mask, \"gray\")"
   ]
  },
  {
   "cell_type": "markdown",
   "id": "33eb4f21-a720-49ca-bad2-c21e98d80240",
   "metadata": {},
   "source": [
    "## 7. Maximum Value, Minimum Value and their locations"
   ]
  },
  {
   "cell_type": "code",
   "execution_count": 11,
   "id": "13bc1f4a-0674-4e50-ab62-0c141151a199",
   "metadata": {
    "tags": []
   },
   "outputs": [
    {
     "data": {
      "text/plain": [
       "(29.0, 30.0, (469, 358), (470, 358))"
      ]
     },
     "execution_count": 11,
     "metadata": {},
     "output_type": "execute_result"
    }
   ],
   "source": [
    "min_val, max_val, min_loc, max_loc = cv.minMaxLoc(img, mask = mask)\n",
    "cv.minMaxLoc(img, mask = mask)"
   ]
  },
  {
   "cell_type": "markdown",
   "id": "214906a7-4a96-411f-a3e5-5aba8aac3519",
   "metadata": {},
   "source": [
    "## 8. Mean Color or Mean Intensity"
   ]
  },
  {
   "cell_type": "code",
   "execution_count": 12,
   "id": "eaf45e34-305d-4a48-a634-f4c17300bd1c",
   "metadata": {},
   "outputs": [
    {
     "data": {
      "text/plain": [
       "(29.0033360874242, 0.0, 0.0, 0.0)"
      ]
     },
     "execution_count": 12,
     "metadata": {},
     "output_type": "execute_result"
    }
   ],
   "source": [
    "mean = cv.mean(img, mask = mask)\n",
    "mean"
   ]
  },
  {
   "cell_type": "markdown",
   "id": "4fb36fc1-9c49-450c-a1f8-0565746e0710",
   "metadata": {},
   "source": [
    "## 9. Extreme Points"
   ]
  },
  {
   "cell_type": "code",
   "execution_count": 13,
   "id": "a55510f1-de08-4a9a-b01f-7e297bafeba7",
   "metadata": {},
   "outputs": [
    {
     "data": {
      "text/plain": [
       "<matplotlib.image.AxesImage at 0x7f37b43e6c40>"
      ]
     },
     "execution_count": 13,
     "metadata": {},
     "output_type": "execute_result"
    },
    {
     "data": {
      "image/png": "[encoded data removed]",
      "text/plain": [
       "<Figure size 432x288 with 1 Axes>"
      ]
     },
     "metadata": {
      "needs_background": "light"
     },
     "output_type": "display_data"
    }
   ],
   "source": [
    "leftmost = tuple(cnt[cnt[:,:,0].argmin()][0])\n",
    "rightmost = tuple(cnt[cnt[:,:,0].argmax()][0])\n",
    "topmost = tuple(cnt[cnt[:,:,1].argmin()][0])\n",
    "bottommost = tuple(cnt[cnt[:,:,1].argmax()][0])\n",
    "img_c = cv.imread(\"img/logo.png\")\n",
    "for point in [leftmost, rightmost, topmost, bottommost]:\n",
    "    cv.circle(img_c, point, 0, (0, 0, 255), 20)\n",
    "plt.imshow(cv.cvtColor(img_c, cv.COLOR_BGR2RGB))"
   ]
  }
 ],
 "metadata": {
  "kernelspec": {
   "display_name": "opencv-tutorial",
   "language": "python",
   "name": "opencv-tutorial"
  },
  "language_info": {
   "codemirror_mode": {
    "name": "ipython",
    "version": 3
   },
   "file_extension": ".py",
   "mimetype": "text/x-python",
   "name": "python",
   "nbconvert_exporter": "python",
   "pygments_lexer": "ipython3",
   "version": "3.9.7"
  }
 },
 "nbformat": 4,
 "nbformat_minor": 5
}
